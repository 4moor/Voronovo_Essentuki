{
 "cells": [
  {
   "cell_type": "code",
   "execution_count": 9,
   "id": "4656e0c5",
   "metadata": {},
   "outputs": [],
   "source": [
    "#Вместо TOKEN вводим токен пользователя ВКонтакте\n",
    "access_token = TOKEN"
   ]
  },
  {
   "cell_type": "code",
   "execution_count": 6,
   "id": "7bc036b5",
   "metadata": {},
   "outputs": [
    {
     "name": "stdout",
     "output_type": "stream",
     "text": [
      "Collecting vk_apiNote: you may need to restart the kernel to use updated packages.\n",
      "\n",
      "  Obtaining dependency information for vk_api from https://files.pythonhosted.org/packages/55/ff/2298f424d7a7ef994e295a31911d47f23a6afdb9e880f10b2dc7a9998a8a/vk_api-11.9.9-py3-none-any.whl.metadata\n",
      "  Using cached vk_api-11.9.9-py3-none-any.whl.metadata (2.0 kB)\n",
      "Requirement already satisfied: requests in c:\\users\\asus\\anaconda3\\lib\\site-packages (from vk_api) (2.31.0)\n",
      "Requirement already satisfied: charset-normalizer<4,>=2 in c:\\users\\asus\\anaconda3\\lib\\site-packages (from requests->vk_api) (2.0.4)\n",
      "Requirement already satisfied: idna<4,>=2.5 in c:\\users\\asus\\anaconda3\\lib\\site-packages (from requests->vk_api) (3.4)\n",
      "Requirement already satisfied: urllib3<3,>=1.21.1 in c:\\users\\asus\\anaconda3\\lib\\site-packages (from requests->vk_api) (1.26.16)\n",
      "Requirement already satisfied: certifi>=2017.4.17 in c:\\users\\asus\\anaconda3\\lib\\site-packages (from requests->vk_api) (2023.7.22)\n",
      "Using cached vk_api-11.9.9-py3-none-any.whl (48 kB)\n",
      "Installing collected packages: vk_api\n",
      "Successfully installed vk_api-11.9.9\n"
     ]
    }
   ],
   "source": [
    "pip install vk_api"
   ]
  },
  {
   "cell_type": "code",
   "execution_count": 8,
   "id": "e578e4d0",
   "metadata": {},
   "outputs": [],
   "source": [
    "import vk_api"
   ]
  },
  {
   "cell_type": "code",
   "execution_count": 10,
   "id": "35d9302d",
   "metadata": {},
   "outputs": [
    {
     "name": "stdout",
     "output_type": "stream",
     "text": [
      "Мои данные:\n",
      "[{'id': 336727950, 'city': {'id': 1, 'title': 'Москва'}, 'country': {'id': 1, 'title': 'Россия'}, 'about': '', 'career': [], 'first_name': 'Тимур', 'last_name': 'Мавланов', 'can_access_closed': True, 'is_closed': False}]\n"
     ]
    }
   ],
   "source": [
    "vk_session = vk_api.VkApi(token=access_token)\n",
    "vk = vk_session.get_api()\n",
    "\n",
    "print('Мои данные:')\n",
    "print(vk.users.get(user_id=336727950, fields='country, city, about, career'), end = '\\n')\n",
    "\n",
    "\n",
    "#№2\n",
    "import csv\n",
    "\n",
    "#Отсеиваем пользователей из Ессентуков (номер города - 52 (ДА ЗДРАВСТВУЮТ ЕССЕНТУКИ!!1))\n",
    "users = vk.users.search(city=52, sort=1, fields=\"bdate, city, career, sex, verified\", count=1000)['items']\n",
    "\n",
    "#Добавляем колонку 'year' с годом рождения пользователя\n",
    "for user in users:\n",
    "   if 'bdate' in user:\n",
    "    date = user['bdate']\n",
    "    date = date.split(\".\")\n",
    "    if len(date) == 3:\n",
    "        year = date[2]\n",
    "        user['year'] = year\n",
    "\n",
    "keys = users[0].keys()\n",
    "\n",
    "#Создаем таблицу csv\n",
    "with open('people.csv', 'w', newline='', encoding='utf-8') as output_file:\n",
    "    dict_writer = csv.DictWriter(output_file, keys)\n",
    "    dict_writer.writeheader()\n",
    "    dict_writer.writerows(users)"
   ]
  }
 ],
 "metadata": {
  "kernelspec": {
   "display_name": "Python 3 (ipykernel)",
   "language": "python",
   "name": "python3"
  },
  "language_info": {
   "codemirror_mode": {
    "name": "ipython",
    "version": 3
   },
   "file_extension": ".py",
   "mimetype": "text/x-python",
   "name": "python",
   "nbconvert_exporter": "python",
   "pygments_lexer": "ipython3",
   "version": "3.11.5"
  }
 },
 "nbformat": 4,
 "nbformat_minor": 5
}
